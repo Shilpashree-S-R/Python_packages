{
 "cells": [
  {
   "cell_type": "markdown",
   "id": "3012ae05",
   "metadata": {},
   "source": [
    "# Python-Numpy"
   ]
  },
  {
   "cell_type": "markdown",
   "id": "9a563335",
   "metadata": {},
   "source": [
    "numpy:\n",
    "    \n",
    "    * Python package for handling N-Dimentional Array\n",
    "    * It is faste than python list\n",
    "    * Widely used for mathematical analsis, Matrix computations and mathematical operations\n",
    "    "
   ]
  },
  {
   "cell_type": "code",
   "execution_count": 1,
   "id": "2ee388ae",
   "metadata": {},
   "outputs": [],
   "source": [
    "#importing required libraries\n",
    "\n",
    "import numpy as np\n"
   ]
  },
  {
   "cell_type": "code",
   "execution_count": 2,
   "id": "5c032029",
   "metadata": {},
   "outputs": [
    {
     "name": "stdout",
     "output_type": "stream",
     "text": [
      "[1 2 3 4 5 6]\n"
     ]
    }
   ],
   "source": [
    "# creating array using list\n",
    "a = np.array([1,2,3,4,5,6], dtype = \"i\")\n",
    "print(a)"
   ]
  },
  {
   "cell_type": "code",
   "execution_count": 4,
   "id": "95c7452b",
   "metadata": {},
   "outputs": [
    {
     "name": "stdout",
     "output_type": "stream",
     "text": [
      "[1. 2. 3. 4. 5. 6.]\n"
     ]
    }
   ],
   "source": [
    "#creatig array usig tuple\n",
    "b = np.array((1,2,3,4,5,6), dtype = \"f\")\n",
    "print(b)"
   ]
  },
  {
   "cell_type": "code",
   "execution_count": 5,
   "id": "ebbc97ae",
   "metadata": {},
   "outputs": [
    {
     "name": "stdout",
     "output_type": "stream",
     "text": [
      "<class 'numpy.ndarray'>\n",
      "<class 'numpy.ndarray'>\n"
     ]
    }
   ],
   "source": [
    "# printing type of the array\n",
    "print(type(a))\n",
    "print(type(b))"
   ]
  },
  {
   "cell_type": "code",
   "execution_count": 6,
   "id": "5c0e0c24",
   "metadata": {},
   "outputs": [
    {
     "name": "stdout",
     "output_type": "stream",
     "text": [
      "int32\n",
      "float32\n"
     ]
    }
   ],
   "source": [
    "#Checking attriutes of array\n",
    "print(a.dtype)\n",
    "print(b.dtype)"
   ]
  },
  {
   "cell_type": "code",
   "execution_count": 7,
   "id": "5d30629c",
   "metadata": {},
   "outputs": [
    {
     "name": "stdout",
     "output_type": "stream",
     "text": [
      "2\n",
      "(2, 3)\n"
     ]
    }
   ],
   "source": [
    "aa = np.array([[1,2,3], [4,5,6]]) # 2 dimentional array\n",
    "print(aa.ndim) # output 2, bcz it is a two-Dimentional array\n",
    "print(aa.shape) # output 2,3 bcz it has 1 row 2 columns and 3 elements each"
   ]
  },
  {
   "cell_type": "code",
   "execution_count": 8,
   "id": "204be374",
   "metadata": {},
   "outputs": [
    {
     "name": "stdout",
     "output_type": "stream",
     "text": [
      "3\n",
      "(2, 2, 3)\n"
     ]
    }
   ],
   "source": [
    "aa = np.array([[[1,2,3], [4,5,6]], [[1,2,3],[4,5,6]]]) # 3-Dimentional array\n",
    "print(aa.ndim)# output 3, bcz it is a three-Dimentional array\n",
    "print(aa.shape) # output 2,2,3 bcz it has 2 row 2 columns and 3 elements each"
   ]
  },
  {
   "cell_type": "code",
   "execution_count": 9,
   "id": "3793b226",
   "metadata": {},
   "outputs": [
    {
     "data": {
      "text/plain": [
       "5"
      ]
     },
     "execution_count": 9,
     "metadata": {},
     "output_type": "execute_result"
    }
   ],
   "source": [
    "#accessing elements from an array\n",
    "\n",
    "aa[1,1,1]\n",
    "aa[0,1,1]"
   ]
  },
  {
   "cell_type": "code",
   "execution_count": 10,
   "id": "41ee6290",
   "metadata": {},
   "outputs": [],
   "source": [
    "a = np.array([[[45,55,54],[75,15,91],[70,64,25]],[[79,16,11],[17,93,56],[15,96,84]]])"
   ]
  },
  {
   "cell_type": "code",
   "execution_count": 11,
   "id": "6f7d9bec",
   "metadata": {},
   "outputs": [
    {
     "name": "stdout",
     "output_type": "stream",
     "text": [
      "3\n"
     ]
    }
   ],
   "source": [
    "print(a.ndim) "
   ]
  },
  {
   "cell_type": "code",
   "execution_count": 12,
   "id": "edb6d30c",
   "metadata": {},
   "outputs": [
    {
     "name": "stdout",
     "output_type": "stream",
     "text": [
      "(2, 3, 3)\n"
     ]
    }
   ],
   "source": [
    "print(a.shape) # 2 rows, 3 columns, 3 elements each"
   ]
  },
  {
   "cell_type": "code",
   "execution_count": 13,
   "id": "9b2c0708",
   "metadata": {},
   "outputs": [
    {
     "data": {
      "text/plain": [
       "70"
      ]
     },
     "execution_count": 13,
     "metadata": {},
     "output_type": "execute_result"
    }
   ],
   "source": [
    "a[0,2,0]"
   ]
  },
  {
   "cell_type": "code",
   "execution_count": 14,
   "id": "e992ae72",
   "metadata": {},
   "outputs": [
    {
     "data": {
      "text/plain": [
       "numpy.ndarray"
      ]
     },
     "execution_count": 14,
     "metadata": {},
     "output_type": "execute_result"
    }
   ],
   "source": [
    "type(a)"
   ]
  },
  {
   "cell_type": "code",
   "execution_count": 15,
   "id": "b56c2a47",
   "metadata": {},
   "outputs": [
    {
     "data": {
      "text/plain": [
       "dtype('int32')"
      ]
     },
     "execution_count": 15,
     "metadata": {},
     "output_type": "execute_result"
    }
   ],
   "source": [
    "a.dtype"
   ]
  },
  {
   "cell_type": "code",
   "execution_count": 16,
   "id": "f9a6268a",
   "metadata": {},
   "outputs": [
    {
     "data": {
      "text/plain": [
       "72"
      ]
     },
     "execution_count": 16,
     "metadata": {},
     "output_type": "execute_result"
    }
   ],
   "source": [
    "a.nbytes"
   ]
  },
  {
   "cell_type": "code",
   "execution_count": 17,
   "id": "12919a7b",
   "metadata": {},
   "outputs": [
    {
     "name": "stdout",
     "output_type": "stream",
     "text": [
      "[[[45.+0.j 55.+0.j 54.+0.j]\n",
      "  [75.+0.j 15.+0.j 91.+0.j]\n",
      "  [70.+0.j 64.+0.j 25.+0.j]]\n",
      "\n",
      " [[79.+0.j 16.+0.j 11.+0.j]\n",
      "  [17.+0.j 93.+0.j 56.+0.j]\n",
      "  [15.+0.j 96.+0.j 84.+0.j]]]\n",
      "3\n",
      "(2, 3, 3)\n"
     ]
    }
   ],
   "source": [
    "a = np.array([[[45,55,54],[75,15,91],[70,64,25]],[[79,16,11],[17,93,56],[15,96,84]]], dtype = complex)\n",
    "print(a)\n",
    "print(a.ndim)\n",
    "print(a.shape)"
   ]
  },
  {
   "cell_type": "code",
   "execution_count": 18,
   "id": "f215d7e3",
   "metadata": {},
   "outputs": [
    {
     "name": "stdout",
     "output_type": "stream",
     "text": [
      "[[0. 0. 0. 0.]\n",
      " [0. 0. 0. 0.]\n",
      " [0. 0. 0. 0.]]\n",
      "2\n",
      "(3, 4)\n",
      "float64\n",
      "96\n"
     ]
    }
   ],
   "source": [
    "a = np.zeros((3, 4))\n",
    "print(a)\n",
    "print(a.ndim)\n",
    "print(a.shape)\n",
    "print(a.dtype)\n",
    "print(a.nbytes)"
   ]
  },
  {
   "cell_type": "code",
   "execution_count": 19,
   "id": "b514eb68",
   "metadata": {},
   "outputs": [
    {
     "name": "stdout",
     "output_type": "stream",
     "text": [
      "[[1 1 1 1]\n",
      " [1 1 1 1]\n",
      " [1 1 1 1]]\n",
      "2\n",
      "(3, 4)\n",
      "int32\n",
      "48\n"
     ]
    }
   ],
   "source": [
    "a = np.ones((3, 4), dtype = \"i\")\n",
    "print(a)\n",
    "print(a.ndim)\n",
    "print(a.shape)\n",
    "print(a.dtype)\n",
    "print(a.nbytes)"
   ]
  },
  {
   "cell_type": "code",
   "execution_count": 20,
   "id": "59d8fcc5",
   "metadata": {},
   "outputs": [
    {
     "name": "stdout",
     "output_type": "stream",
     "text": [
      "[ 0  1  2  3  4  5  6  7  8  9 10 11 12 13 14 15 16 17 18 19 20 21 22 23\n",
      " 24 25 26 27 28 29 30 31 32 33 34 35 36 37 38 39 40 41 42 43 44 45 46 47\n",
      " 48 49 50 51 52 53 54 55 56 57 58 59 60 61 62 63 64 65 66 67 68 69 70 71\n",
      " 72 73 74 75 76 77 78 79 80 81 82 83 84 85 86 87 88 89 90 91 92 93 94 95\n",
      " 96 97 98 99]\n"
     ]
    }
   ],
   "source": [
    "#numpy arange\n",
    "\n",
    "array = np.arange(100)\n",
    "print(array)"
   ]
  },
  {
   "cell_type": "code",
   "execution_count": 21,
   "id": "affb386a",
   "metadata": {},
   "outputs": [
    {
     "name": "stdout",
     "output_type": "stream",
     "text": [
      "[0 1 2 3 4 5 6 7 8 9]\n"
     ]
    }
   ],
   "source": [
    "array = np.arange(0, 10)\n",
    "print(array)"
   ]
  },
  {
   "cell_type": "code",
   "execution_count": 22,
   "id": "66aa40c1",
   "metadata": {},
   "outputs": [
    {
     "name": "stdout",
     "output_type": "stream",
     "text": [
      "[  0  10  20  30  40  50  60  70  80  90 100]\n"
     ]
    }
   ],
   "source": [
    "array = np.arange(0, 101, 10)\n",
    "print(array)"
   ]
  },
  {
   "cell_type": "code",
   "execution_count": 23,
   "id": "44801e4e",
   "metadata": {},
   "outputs": [
    {
     "name": "stdout",
     "output_type": "stream",
     "text": [
      "[4 3 2 0 9 7 1 5 6 8]\n"
     ]
    }
   ],
   "source": [
    "# Numpy random (pernutation)\n",
    "\n",
    "array = np.random.permutation(np.arange(10))\n",
    "print(array)"
   ]
  },
  {
   "cell_type": "code",
   "execution_count": 24,
   "id": "8ea2ba1b",
   "metadata": {},
   "outputs": [
    {
     "name": "stdout",
     "output_type": "stream",
     "text": [
      "[1.         1.44444444 1.88888889 2.33333333 2.77777778 3.22222222\n",
      " 3.66666667 4.11111111 4.55555556 5.        ]\n"
     ]
    }
   ],
   "source": [
    "#linspace function\n",
    "\n",
    "array = np.linspace(1,5,10) # returns 10 unique values from 1 to 5\n",
    "print(array)"
   ]
  },
  {
   "cell_type": "code",
   "execution_count": 25,
   "id": "d90f3a92",
   "metadata": {},
   "outputs": [
    {
     "name": "stdout",
     "output_type": "stream",
     "text": [
      "[[1 2]\n",
      " [3 4]\n",
      " [5 6]]\n",
      "array shape is : (3, 2)\n",
      "after reshape :  [[1 2 3]\n",
      " [4 5 6]]\n",
      "after array reshape :  [[1]\n",
      " [2]\n",
      " [3]\n",
      " [4]\n",
      " [5]\n",
      " [6]]\n"
     ]
    }
   ],
   "source": [
    "#numpy reshape functions\n",
    "\n",
    "array = np.array([[1,2],[3,4], [5,6]])\n",
    "print(array)\n",
    "\n",
    "print(\"array shape is :\",array.shape)\n",
    "\n",
    "print(\"after reshape : \",array.reshape(2,3))\n",
    "print(\"after array reshape : \",array.reshape(6,1))"
   ]
  },
  {
   "cell_type": "code",
   "execution_count": 26,
   "id": "b0d66959",
   "metadata": {},
   "outputs": [
    {
     "name": "stdout",
     "output_type": "stream",
     "text": [
      "original array is : [[1 2]\n",
      " [3 4]\n",
      " [5 6]]\n",
      "\n",
      "min element in the array is : 1\n",
      "max element in the array is : 6\n",
      "sum is : 21\n",
      "sum of axis 0:  [ 9 12]\n",
      "Square root of array is :  [[1.         1.41421356]\n",
      " [1.73205081 2.        ]\n",
      " [2.23606798 2.44948974]]\n",
      "Standard deviatio of array is : 1.707825127659933\n"
     ]
    }
   ],
   "source": [
    "# numpy math functions\n",
    "\n",
    "array = np.array([[1,2],[3,4], [5,6]])\n",
    "print(\"original array is :\", array)\n",
    "print()\n",
    "print(\"min element in the array is :\",array.min())\n",
    "print(\"max element in the array is :\",array.max())\n",
    "\n",
    "print(\"sum is :\",array.sum())\n",
    "print(\"sum of axis 0: \", array.sum(axis=0))\n",
    "\n",
    "sqrt = np.sqrt(array)\n",
    "print(\"Square root of array is : \", sqrt)\n",
    "\n",
    "std = np.std(array)\n",
    "print(\"Standard deviatio of array is :\", std)"
   ]
  },
  {
   "cell_type": "code",
   "execution_count": 27,
   "id": "6f347bff",
   "metadata": {},
   "outputs": [
    {
     "name": "stdout",
     "output_type": "stream",
     "text": [
      "originalarray1 is: [[1 2]\n",
      " [3 4]]\n",
      "original array2 is : [[1 2]\n",
      " [3 4]]\n",
      "Addition of array1 and array2 i : [[2 4]\n",
      " [6 8]]\n",
      "Substraction of array1 and array2 i : [[0 0]\n",
      " [0 0]]\n",
      "multiplication of array1 and array2 i : [[ 1  4]\n",
      " [ 9 16]]\n",
      "division of array1 and array2 i : [[1. 1.]\n",
      " [1. 1.]]\n",
      "matrix product is:  [[ 7 10]\n",
      " [15 22]]\n"
     ]
    }
   ],
   "source": [
    "# mathematical operations on two array\n",
    "\n",
    "array1 = np.array([[1,2],[3,4]])\n",
    "array2 = np.array([[1,2], [3,4]])\n",
    "\n",
    "print(\"originalarray1 is:\", array1)\n",
    "print(\"original array2 is :\", array2)\n",
    "      \n",
    "print(\"Addition of array1 and array2 i :\", array1+array2)\n",
    "print(\"Substraction of array1 and array2 i :\", array1-array2)\n",
    "print(\"multiplication of array1 and array2 i :\", array1*array2)\n",
    "print(\"division of array1 and array2 i :\", array1/array2)\n",
    "\n",
    "array3 = array1.dot(array2)\n",
    "print(\"matrix product is: \",array3)"
   ]
  },
  {
   "cell_type": "code",
   "execution_count": 28,
   "id": "2a6fc233",
   "metadata": {},
   "outputs": [
    {
     "name": "stdout",
     "output_type": "stream",
     "text": [
      "[10 20 30 40 50]\n",
      "(5,)\n",
      "1\n",
      "original array is : [10 20 30 40 50]\n",
      "[10 20 30 40 50]\n",
      "[10 20]\n",
      "[30 40 50]\n",
      "[10 20 30 40]\n",
      "50\n"
     ]
    }
   ],
   "source": [
    "# Indexing in numpy array's\n",
    "\n",
    "# one-Dimentioanl array\n",
    "\n",
    "array = np.array([10,20,30,40,50])\n",
    "print(array)\n",
    "print(array.shape)\n",
    "print(array.ndim)\n",
    "print(\"original array is :\",array)\n",
    "print(array[:])\n",
    "print(array[:2])\n",
    "print(array[2:])\n",
    "print(array[:-1])\n",
    "print(array[-1])"
   ]
  },
  {
   "cell_type": "code",
   "execution_count": 29,
   "id": "38178ded",
   "metadata": {},
   "outputs": [
    {
     "name": "stdout",
     "output_type": "stream",
     "text": [
      "[[ 10  20  30]\n",
      " [ 50  60  70]\n",
      " [ 80  90 100]]\n",
      "2\n",
      "(3, 3)\n",
      "70\n",
      "100\n",
      "20\n",
      "\n",
      "\n",
      "[30 70]\n",
      "[30]\n"
     ]
    }
   ],
   "source": [
    "# two-dimentiaonal array\n",
    "\n",
    "array = np.array([[10,20,30], [50,60,70], [80,90,100]])\n",
    "print(array)\n",
    "print(array.ndim)\n",
    "print(array.shape)\n",
    "print(array[1,2])\n",
    "print(array[2,2])\n",
    "print(array[0,1])\n",
    "\n",
    "print()\n",
    "print()\n",
    "\n",
    "print(array[0:2,2])\n",
    "print(array[0:1,2])\n",
    "\n"
   ]
  },
  {
   "cell_type": "code",
   "execution_count": 30,
   "id": "cb2f1ae3",
   "metadata": {},
   "outputs": [
    {
     "name": "stdout",
     "output_type": "stream",
     "text": [
      "[10 20 30]\n",
      "[50 60 70]\n",
      "[ 80  90 100]\n"
     ]
    }
   ],
   "source": [
    "for row in array:\n",
    "    print(row)"
   ]
  },
  {
   "cell_type": "code",
   "execution_count": 31,
   "id": "851dfc7f",
   "metadata": {},
   "outputs": [
    {
     "name": "stdout",
     "output_type": "stream",
     "text": [
      "[10 20 30]\n",
      "[50 60 70]\n",
      "[ 80  90 100]\n"
     ]
    }
   ],
   "source": [
    "for column in array:\n",
    "    print(column)"
   ]
  },
  {
   "cell_type": "code",
   "execution_count": 32,
   "id": "837d9dea",
   "metadata": {},
   "outputs": [
    {
     "name": "stdout",
     "output_type": "stream",
     "text": [
      "10\n",
      "20\n",
      "30\n",
      "50\n",
      "60\n",
      "70\n",
      "80\n",
      "90\n",
      "100\n"
     ]
    }
   ],
   "source": [
    "for cell in array.flat:\n",
    "    print(cell)"
   ]
  },
  {
   "cell_type": "code",
   "execution_count": 33,
   "id": "5843a236",
   "metadata": {},
   "outputs": [
    {
     "name": "stdout",
     "output_type": "stream",
     "text": [
      "[[ 10  20  30]\n",
      " [ 50  60  70]\n",
      " [ 80  90 100]]\n",
      "\n",
      "[[0 1 2]\n",
      " [3 4 5]]\n"
     ]
    }
   ],
   "source": [
    "array1 = np.arange(6).reshape(3,2)\n",
    "array2 = np.arange(6).reshape(3,2)\n",
    "print(array)\n",
    "print()\n",
    "array = np.arange(6).reshape(2,3)\n",
    "print(array)"
   ]
  },
  {
   "cell_type": "code",
   "execution_count": 34,
   "id": "75b82454",
   "metadata": {},
   "outputs": [
    {
     "name": "stdout",
     "output_type": "stream",
     "text": [
      "[[0 1]\n",
      " [2 3]\n",
      " [4 5]\n",
      " [0 1]\n",
      " [2 3]\n",
      " [4 5]]\n",
      "\n",
      "\n",
      "[[0 1 0 1]\n",
      " [2 3 2 3]\n",
      " [4 5 4 5]]\n"
     ]
    }
   ],
   "source": [
    "#Stacking arrays\n",
    "\n",
    "print(np.vstack((array1, array2)))\n",
    "print()\n",
    "print()\n",
    "print(np.hstack((array1, array2)))"
   ]
  },
  {
   "cell_type": "code",
   "execution_count": 38,
   "id": "d2db1650",
   "metadata": {},
   "outputs": [
    {
     "name": "stdout",
     "output_type": "stream",
     "text": [
      "[[ 0  1  2  3]\n",
      " [ 4  5  6  7]\n",
      " [ 8  9 10 11]]\n",
      "\n",
      "[[False False False False]\n",
      " [False  True  True  True]\n",
      " [ True  True  True  True]]\n",
      "\n",
      "[False  True]\n",
      "\n"
     ]
    }
   ],
   "source": [
    "#indexing boolean arrays\n",
    "\n",
    "array = np.arange(12).reshape(3,4)\n",
    "print(array)\n",
    "\n",
    "print()\n",
    "\n",
    "array1 = array > 4\n",
    "print(array1)\n",
    "print()\n",
    "print(array1[0:2,2])\n",
    "print()\n",
    "\n"
   ]
  }
 ],
 "metadata": {
  "kernelspec": {
   "display_name": "Python 3 (ipykernel)",
   "language": "python",
   "name": "python3"
  },
  "language_info": {
   "codemirror_mode": {
    "name": "ipython",
    "version": 3
   },
   "file_extension": ".py",
   "mimetype": "text/x-python",
   "name": "python",
   "nbconvert_exporter": "python",
   "pygments_lexer": "ipython3",
   "version": "3.9.13"
  }
 },
 "nbformat": 4,
 "nbformat_minor": 5
}
