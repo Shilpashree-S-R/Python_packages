{
 "cells": [
  {
   "cell_type": "markdown",
   "id": "df399ccc",
   "metadata": {},
   "source": [
    "                               Numpy Important Functions"
   ]
  },
  {
   "cell_type": "code",
   "execution_count": 82,
   "id": "f7be80b2",
   "metadata": {},
   "outputs": [],
   "source": [
    "import numpy as np"
   ]
  },
  {
   "cell_type": "code",
   "execution_count": 81,
   "id": "f411a28c",
   "metadata": {},
   "outputs": [
    {
     "name": "stdout",
     "output_type": "stream",
     "text": [
      "Array elements are: [10 20 30 40 50]\n",
      "Array shape is: (5,)\n",
      "Array dimension is: 1\n",
      "Array is of type: int32\n"
     ]
    }
   ],
   "source": [
    "#Array creation using tuple\n",
    "\n",
    "array = np.array([10,20,30,40,50])\n",
    "print(\"Array elements are:\",array)\n",
    "print(\"Array shape is:\", array.shape)\n",
    "print(\"Array dimension is:\", array.ndim)\n",
    "print(\"Array is of type:\", array.dtype)"
   ]
  },
  {
   "cell_type": "code",
   "execution_count": 11,
   "id": "a737c1d3",
   "metadata": {},
   "outputs": [
    {
     "name": "stdout",
     "output_type": "stream",
     "text": [
      "Array elements are: [10 20 30 40 50]\n",
      "Array shape is: (5,)\n",
      "Array dimension is: 1\n",
      "Array is of type: int32\n"
     ]
    }
   ],
   "source": [
    "#array creation using set\n",
    "\n",
    "array = np.array((10,20,30,40,50))\n",
    "print(\"Array elements are:\",array)\n",
    "print(\"Array shape is:\", array.shape)\n",
    "print(\"Array dimension is:\", array.ndim)\n",
    "print(\"Array is of type:\", array.dtype)"
   ]
  },
  {
   "cell_type": "code",
   "execution_count": 19,
   "id": "730366bb",
   "metadata": {},
   "outputs": [
    {
     "name": "stdout",
     "output_type": "stream",
     "text": [
      "Array elements are: [1 2 3 4 5]\n",
      "Array shape is: (5,)\n",
      "Array dimension is: 1\n",
      "Array is of type: int32\n"
     ]
    }
   ],
   "source": [
    "array = np.array([1,2,3,4,5], dtype = \"i\")\n",
    "print(\"Array elements are:\",array)\n",
    "print(\"Array shape is:\", array.shape)\n",
    "print(\"Array dimension is:\", array.ndim)\n",
    "print(\"Array is of type:\", array.dtype)"
   ]
  },
  {
   "cell_type": "code",
   "execution_count": 20,
   "id": "474ed8b0",
   "metadata": {},
   "outputs": [
    {
     "name": "stdout",
     "output_type": "stream",
     "text": [
      "Array elements are: [1. 2. 3. 4. 5.]\n",
      "Array shape is: (5,)\n",
      "Array dimension is: 1\n",
      "Array is of type: float32\n"
     ]
    }
   ],
   "source": [
    "array = np.array([1,2,3,4,5], dtype = \"f\")\n",
    "print(\"Array elements are:\",array)\n",
    "print(\"Array shape is:\", array.shape)\n",
    "print(\"Array dimension is:\", array.ndim)\n",
    "print(\"Array is of type:\", array.dtype)"
   ]
  },
  {
   "cell_type": "code",
   "execution_count": 21,
   "id": "4fcce030",
   "metadata": {},
   "outputs": [
    {
     "name": "stdout",
     "output_type": "stream",
     "text": [
      "Array elements are: [1.+0.j 2.+0.j 3.+0.j 4.+0.j 5.+0.j]\n",
      "Array shape is: (5,)\n",
      "Array dimension is: 1\n",
      "Array is of type: complex128\n"
     ]
    }
   ],
   "source": [
    "array = np.array([1,2,3,4,5], dtype = \"complex\")\n",
    "print(\"Array elements are:\",array)\n",
    "print(\"Array shape is:\", array.shape)\n",
    "print(\"Array dimension is:\", array.ndim)\n",
    "print(\"Array is of type:\", array.dtype)"
   ]
  },
  {
   "cell_type": "code",
   "execution_count": 22,
   "id": "eeff0a2f",
   "metadata": {},
   "outputs": [
    {
     "name": "stdout",
     "output_type": "stream",
     "text": [
      "Array elements are: [ 0.         5.5555553 11.111111  16.666666  22.222221  27.777779\n",
      " 33.333332  38.88889   44.444443  50.       ]\n",
      "Array shape is: (10,)\n",
      "Array dimension is: 1\n",
      "Array is of type: float32\n"
     ]
    }
   ],
   "source": [
    "array = np.linspace(0, 50, 10, dtype = \"f\")\n",
    "print(\"Array elements are:\",array)\n",
    "print(\"Array shape is:\", array.shape)\n",
    "print(\"Array dimension is:\", array.ndim)\n",
    "print(\"Array is of type:\", array.dtype)"
   ]
  },
  {
   "cell_type": "code",
   "execution_count": 23,
   "id": "a782513c",
   "metadata": {},
   "outputs": [
    {
     "name": "stdout",
     "output_type": "stream",
     "text": [
      "Array elements are: [ 0  5 11 16 22 27 33 38 44 50]\n",
      "Array shape is: (10,)\n",
      "Array dimension is: 1\n",
      "Array is of type: int32\n"
     ]
    }
   ],
   "source": [
    "array = np.linspace(0, 50, 10, dtype = \"i\")\n",
    "print(\"Array elements are:\",array)\n",
    "print(\"Array shape is:\", array.shape)\n",
    "print(\"Array dimension is:\", array.ndim)\n",
    "print(\"Array is of type:\", array.dtype)"
   ]
  },
  {
   "cell_type": "code",
   "execution_count": 24,
   "id": "fbdc6629",
   "metadata": {},
   "outputs": [
    {
     "name": "stdout",
     "output_type": "stream",
     "text": [
      "Array elements are: [ 0.        +0.j  5.55555556+0.j 11.11111111+0.j 16.66666667+0.j\n",
      " 22.22222222+0.j 27.77777778+0.j 33.33333333+0.j 38.88888889+0.j\n",
      " 44.44444444+0.j 50.        +0.j]\n",
      "Array shape is: (10,)\n",
      "Array dimension is: 1\n",
      "Array is of type: complex128\n"
     ]
    }
   ],
   "source": [
    "array = np.linspace(0, 50, 10, dtype = \"complex\")\n",
    "print(\"Array elements are:\",array)\n",
    "print(\"Array shape is:\", array.shape)\n",
    "print(\"Array dimension is:\", array.ndim)\n",
    "print(\"Array is of type:\", array.dtype)"
   ]
  },
  {
   "cell_type": "code",
   "execution_count": 37,
   "id": "d0e68e18",
   "metadata": {},
   "outputs": [
    {
     "name": "stdout",
     "output_type": "stream",
     "text": [
      "Array elements are: [ 0  1  2  3  4  5  6  7  8  9 10 11 12 13 14 15 16 17 18 19]\n",
      "Array shape is: (20,)\n",
      "Array dimension is: 1\n",
      "Array is of type: int32\n"
     ]
    }
   ],
   "source": [
    "array = np.arange(0,20)\n",
    "print(\"Array elements are:\",array)\n",
    "print(\"Array shape is:\", array.shape)\n",
    "print(\"Array dimension is:\", array.ndim)\n",
    "print(\"Array is of type:\", array.dtype)"
   ]
  },
  {
   "cell_type": "code",
   "execution_count": 36,
   "id": "9754b7f7",
   "metadata": {},
   "outputs": [
    {
     "name": "stdout",
     "output_type": "stream",
     "text": [
      "Array elements are: [ 0 20 40 60 80]\n",
      "Array shape is: (5,)\n",
      "Array dimension is: 1\n",
      "Array is of type: int32\n"
     ]
    }
   ],
   "source": [
    "array = np.arange(0,100,20)\n",
    "print(\"Array elements are:\",array)\n",
    "print(\"Array shape is:\", array.shape)\n",
    "print(\"Array dimension is:\", array.ndim)\n",
    "print(\"Array is of type:\", array.dtype)"
   ]
  },
  {
   "cell_type": "code",
   "execution_count": 34,
   "id": "6e362df3",
   "metadata": {},
   "outputs": [
    {
     "name": "stdout",
     "output_type": "stream",
     "text": [
      "Array elements are: [ 0 20 40 60 80]\n",
      "Array shape is: (5,)\n",
      "Array dimension is: 1\n",
      "Array is of type: int32\n"
     ]
    }
   ],
   "source": [
    "array = np.arange(0,100,20, dtype = \"i\")\n",
    "print(\"Array elements are:\",array)\n",
    "print(\"Array shape is:\", array.shape)\n",
    "print(\"Array dimension is:\", array.ndim)\n",
    "print(\"Array is of type:\", array.dtype)"
   ]
  },
  {
   "cell_type": "code",
   "execution_count": 33,
   "id": "995fba84",
   "metadata": {},
   "outputs": [
    {
     "name": "stdout",
     "output_type": "stream",
     "text": [
      "Array elements are: [ 0. 20. 40. 60. 80.]\n",
      "Array shape is: (5,)\n",
      "Array dimension is: 1\n",
      "Array is of type: float32\n"
     ]
    }
   ],
   "source": [
    "array = np.arange(0,100,20, dtype = \"f\")\n",
    "print(\"Array elements are:\",array)\n",
    "print(\"Array shape is:\", array.shape)\n",
    "print(\"Array dimension is:\", array.ndim)\n",
    "print(\"Array is of type:\", array.dtype)"
   ]
  },
  {
   "cell_type": "code",
   "execution_count": 32,
   "id": "94bd6288",
   "metadata": {},
   "outputs": [
    {
     "name": "stdout",
     "output_type": "stream",
     "text": [
      "Array elements are: [ 0.+0.j 20.+0.j 40.+0.j 60.+0.j 80.+0.j]\n",
      "Array shape is: (5,)\n",
      "Array dimension is: 1\n",
      "Array is of type: complex128\n"
     ]
    }
   ],
   "source": [
    "array = np.arange(0,100,20, dtype = \"complex\")\n",
    "print(\"Array elements are:\",array)\n",
    "print(\"Array shape is:\", array.shape)\n",
    "print(\"Array dimension is:\", array.ndim)\n",
    "print(\"Array is of type:\", array.dtype)"
   ]
  },
  {
   "cell_type": "code",
   "execution_count": 41,
   "id": "e507075d",
   "metadata": {},
   "outputs": [
    {
     "name": "stdout",
     "output_type": "stream",
     "text": [
      "Array elements are: [2.63952775 9.22293425 2.76108974 4.42802658]\n",
      "Array shape is: (4,)\n",
      "Array dimension is: 1\n",
      "Array is of type: float64\n"
     ]
    }
   ],
   "source": [
    "array = np.random.uniform(0, 10, size=4)\n",
    "print(\"Array elements are:\",array)\n",
    "print(\"Array shape is:\", array.shape)\n",
    "print(\"Array dimension is:\", array.ndim)\n",
    "print(\"Array is of type:\", array.dtype)"
   ]
  },
  {
   "cell_type": "code",
   "execution_count": 42,
   "id": "d6132026",
   "metadata": {},
   "outputs": [
    {
     "name": "stdout",
     "output_type": "stream",
     "text": [
      "Array elements are: [70.29574748 12.85621134 60.78485892 19.57713509 28.4371146  60.01725085\n",
      " 96.26868885 68.31928106 93.22582111 12.68649933 37.94222246 68.04986611\n",
      "  5.48180635 89.87795861 82.63619197 81.77470203 60.70277807 50.39521823\n",
      " 88.94118752 65.98064651]\n",
      "Array shape is: (20,)\n",
      "Array dimension is: 1\n",
      "Array is of type: float64\n"
     ]
    }
   ],
   "source": [
    "array = np.random.uniform(0, 100, size=20)\n",
    "print(\"Array elements are:\",array)\n",
    "print(\"Array shape is:\", array.shape)\n",
    "print(\"Array dimension is:\", array.ndim)\n",
    "print(\"Array is of type:\", array.dtype)"
   ]
  },
  {
   "cell_type": "code",
   "execution_count": 43,
   "id": "69fe916e",
   "metadata": {},
   "outputs": [
    {
     "data": {
      "text/plain": [
       "array([34, 41, 46, 44, 34, 48,  6, 15,  0, 28])"
      ]
     },
     "execution_count": 43,
     "metadata": {},
     "output_type": "execute_result"
    }
   ],
   "source": [
    "array = np.random.randint(0, 50, 10)\n",
    "array"
   ]
  },
  {
   "cell_type": "code",
   "execution_count": 45,
   "id": "8678bb68",
   "metadata": {},
   "outputs": [
    {
     "data": {
      "text/plain": [
       "array([0.8759459 , 0.820338  , 0.17945893])"
      ]
     },
     "execution_count": 45,
     "metadata": {},
     "output_type": "execute_result"
    }
   ],
   "source": [
    "array = np.random.random(3)\n",
    "array"
   ]
  },
  {
   "cell_type": "code",
   "execution_count": 52,
   "id": "2951c1d1",
   "metadata": {},
   "outputs": [
    {
     "name": "stdout",
     "output_type": "stream",
     "text": [
      "[1.00000000e+00 1.15195282e+00 1.32699530e+00 1.52863599e+00\n",
      " 1.76091654e+00 2.02849277e+00 2.33672798e+00 2.69180039e+00\n",
      " 3.10082705e+00 3.57200647e+00 4.11478293e+00 4.74003581e+00\n",
      " 5.46029763e+00 6.29000526e+00 7.24578931e+00 8.34680745e+00\n",
      " 9.61512839e+00 1.10761743e+01 1.27592302e+01 1.46980313e+01\n",
      " 1.69314386e+01 1.95042185e+01 2.24679395e+01 2.58820063e+01\n",
      " 2.98148502e+01 3.43453008e+01 3.95641662e+01 4.55760529e+01\n",
      " 5.25014628e+01 6.04792082e+01 6.96691946e+01 8.02556253e+01\n",
      " 9.24506940e+01 1.06498838e+02 1.22681637e+02 1.41323458e+02\n",
      " 1.62797956e+02 1.87535565e+02 2.16032123e+02 2.48858814e+02\n",
      " 2.86673613e+02 3.30234477e+02 3.80414538e+02 4.38219601e+02\n",
      " 5.04808306e+02 5.81515352e+02 6.69878251e+02 7.71668141e+02\n",
      " 8.88925293e+02 1.02400000e+03]\n"
     ]
    }
   ],
   "source": [
    "array = np.logspace(0,10,base=2)\n",
    "print(array)"
   ]
  },
  {
   "cell_type": "code",
   "execution_count": 50,
   "id": "398bac5e",
   "metadata": {},
   "outputs": [
    {
     "name": "stdout",
     "output_type": "stream",
     "text": [
      "[[0 0 0]\n",
      " [0 0 0]]\n"
     ]
    }
   ],
   "source": [
    "array = np.zeros((2,3), dtype='i')\n",
    "print(array)"
   ]
  },
  {
   "cell_type": "code",
   "execution_count": 51,
   "id": "cd9815af",
   "metadata": {},
   "outputs": [
    {
     "name": "stdout",
     "output_type": "stream",
     "text": [
      "[[1 1 1]\n",
      " [1 1 1]]\n"
     ]
    }
   ],
   "source": [
    "array = np.ones((2,3), dtype='i')\n",
    "print(array)"
   ]
  },
  {
   "cell_type": "code",
   "execution_count": 55,
   "id": "0a2493ef",
   "metadata": {},
   "outputs": [
    {
     "name": "stdout",
     "output_type": "stream",
     "text": [
      "[[20. 20. 20. 20.]\n",
      " [20. 20. 20. 20.]]\n"
     ]
    }
   ],
   "source": [
    "array = np.full((2,4), fill_value = 20, dtype='f')\n",
    "print(array)"
   ]
  },
  {
   "cell_type": "code",
   "execution_count": 57,
   "id": "aae533d4",
   "metadata": {},
   "outputs": [
    {
     "name": "stdout",
     "output_type": "stream",
     "text": [
      "[[1 0 0 0 0 0 0]\n",
      " [0 1 0 0 0 0 0]\n",
      " [0 0 1 0 0 0 0]\n",
      " [0 0 0 1 0 0 0]\n",
      " [0 0 0 0 1 0 0]\n",
      " [0 0 0 0 0 1 0]\n",
      " [0 0 0 0 0 0 1]]\n"
     ]
    }
   ],
   "source": [
    "array = np.identity(7, dtype='i')\n",
    "print(array)"
   ]
  },
  {
   "cell_type": "code",
   "execution_count": 69,
   "id": "e35c6f65",
   "metadata": {},
   "outputs": [
    {
     "name": "stdout",
     "output_type": "stream",
     "text": [
      "Array elements are: [[[10 64 79 13]\n",
      "  [81 26 81 84]]\n",
      "\n",
      " [[64 76 61 94]\n",
      "  [70 90  4  2]]\n",
      "\n",
      " [[ 5 94 61 49]\n",
      "  [81 31 93 71]]]\n",
      "Array shape is: (3, 2, 4)\n",
      "Array dimension is: 3\n",
      "Array is of type: int32\n"
     ]
    }
   ],
   "source": [
    "array = np.array([[[10,64,79,13],[81,26,81,84]],[[64,76,61,94],[70,90,4,2]],[[5,94,61,49],[81,31,93,71]]])\n",
    "print(\"Array elements are:\",array)\n",
    "print(\"Array shape is:\", array.shape)\n",
    "print(\"Array dimension is:\", array.ndim)\n",
    "print(\"Array is of type:\", array.dtype)\n"
   ]
  },
  {
   "cell_type": "code",
   "execution_count": 71,
   "id": "f40f98a4",
   "metadata": {},
   "outputs": [
    {
     "data": {
      "text/plain": [
       "2"
      ]
     },
     "execution_count": 71,
     "metadata": {},
     "output_type": "execute_result"
    }
   ],
   "source": [
    "np.amin(array)"
   ]
  },
  {
   "cell_type": "code",
   "execution_count": 72,
   "id": "e85097bb",
   "metadata": {},
   "outputs": [
    {
     "data": {
      "text/plain": [
       "94"
      ]
     },
     "execution_count": 72,
     "metadata": {},
     "output_type": "execute_result"
    }
   ],
   "source": [
    "np.amax(array)"
   ]
  },
  {
   "cell_type": "code",
   "execution_count": 73,
   "id": "eb3d8c45",
   "metadata": {},
   "outputs": [
    {
     "data": {
      "text/plain": [
       "57.666666666666664"
      ]
     },
     "execution_count": 73,
     "metadata": {},
     "output_type": "execute_result"
    }
   ],
   "source": [
    "np.mean(array)"
   ]
  },
  {
   "cell_type": "code",
   "execution_count": 74,
   "id": "c96b4816",
   "metadata": {},
   "outputs": [
    {
     "data": {
      "text/plain": [
       "67.0"
      ]
     },
     "execution_count": 74,
     "metadata": {},
     "output_type": "execute_result"
    }
   ],
   "source": [
    "np.median(array)"
   ]
  },
  {
   "cell_type": "code",
   "execution_count": 75,
   "id": "d9082522",
   "metadata": {},
   "outputs": [
    {
     "data": {
      "text/plain": [
       "array([ 2,  4,  5, 10, 13, 26, 31, 49, 61, 64, 70, 71, 76, 79, 81, 84, 90,\n",
       "       93, 94])"
      ]
     },
     "execution_count": 75,
     "metadata": {},
     "output_type": "execute_result"
    }
   ],
   "source": [
    "np.unique(array)"
   ]
  },
  {
   "cell_type": "code",
   "execution_count": 78,
   "id": "e8aac90f",
   "metadata": {},
   "outputs": [
    {
     "data": {
      "text/plain": [
       "(3, 2, 4)"
      ]
     },
     "execution_count": 78,
     "metadata": {},
     "output_type": "execute_result"
    }
   ],
   "source": [
    "array.shape"
   ]
  },
  {
   "cell_type": "code",
   "execution_count": 79,
   "id": "1ab33832",
   "metadata": {},
   "outputs": [
    {
     "data": {
      "text/plain": [
       "array([[[10, 13, 64, 79],\n",
       "        [26, 81, 81, 84]],\n",
       "\n",
       "       [[61, 64, 76, 94],\n",
       "        [ 2,  4, 70, 90]],\n",
       "\n",
       "       [[ 5, 49, 61, 94],\n",
       "        [31, 71, 81, 93]]])"
      ]
     },
     "execution_count": 79,
     "metadata": {},
     "output_type": "execute_result"
    }
   ],
   "source": [
    "np.sort(array)"
   ]
  },
  {
   "cell_type": "code",
   "execution_count": null,
   "id": "88a1e873",
   "metadata": {},
   "outputs": [],
   "source": []
  }
 ],
 "metadata": {
  "kernelspec": {
   "display_name": "Python 3 (ipykernel)",
   "language": "python",
   "name": "python3"
  },
  "language_info": {
   "codemirror_mode": {
    "name": "ipython",
    "version": 3
   },
   "file_extension": ".py",
   "mimetype": "text/x-python",
   "name": "python",
   "nbconvert_exporter": "python",
   "pygments_lexer": "ipython3",
   "version": "3.9.13"
  }
 },
 "nbformat": 4,
 "nbformat_minor": 5
}
